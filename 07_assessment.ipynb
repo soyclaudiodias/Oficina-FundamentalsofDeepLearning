{
 "cells": [
  {
   "cell_type": "markdown",
   "metadata": {},
   "source": [
    "<center><a href=\"https://www.nvidia.com/dli\"> <img src=\"images/DLI_Header.png\" alt=\"Header\" style=\"width: 400px;\"/> </a></center>"
   ]
  },
  {
   "cell_type": "markdown",
   "metadata": {},
   "source": [
    "# Assessment"
   ]
  },
  {
   "cell_type": "markdown",
   "metadata": {},
   "source": [
    "Congratulations on going through today's course! Hopefully, you've learned some valuable skills along the way and had fun doing it. Now it's time to put those skills to the test. In this assessment, you will train a new model that is able to recognize fresh and rotten fruit. You will need to get the model to a validation accuracy of `92%` in order to pass the assessment, though we challenge you to do even better if you can. You will have the use the skills that you learned in the previous exercises. Specifically, we suggest using some combination of transfer learning, data augmentation, and fine tuning. Once you have trained the model to be at least 92% accurate on the validation dataset, save your model, and then assess its accuracy. Let's get started! "
   ]
  },
  {
   "cell_type": "markdown",
   "metadata": {},
   "source": [
    "## The Dataset"
   ]
  },
  {
   "cell_type": "markdown",
   "metadata": {},
   "source": [
    "In this exercise, you will train a model to recognize fresh and rotten fruits. The dataset comes from [Kaggle](https://www.kaggle.com/sriramr/fruits-fresh-and-rotten-for-classification), a great place to go if you're interested in starting a project after this class. The dataset structure is in the `data/fruits` folder. There are 6 categories of fruits: fresh apples, fresh oranges, fresh bananas, rotten apples, rotten oranges, and rotten bananas. This will mean that your model will require an output layer of 6 neurons to do the categorization successfully. You'll also need to compile the model with `categorical_crossentropy`, as we have more than two categories."
   ]
  },
  {
   "cell_type": "markdown",
   "metadata": {},
   "source": [
    "<img src=\"./images/fruits.png\" style=\"width: 600px;\">"
   ]
  },
  {
   "cell_type": "markdown",
   "metadata": {},
   "source": [
    "## Load ImageNet Base Model"
   ]
  },
  {
   "cell_type": "markdown",
   "metadata": {},
   "source": [
    "We encourage you to start with a model pretrained on ImageNet. Load the model with the correct weights, set an input shape, and choose to remove the last layers of the model. Remember that images have three dimensions: a height, and width, and a number of channels. Because these pictures are in color, there will be three channels for red, green, and blue. We've filled in the input shape for you. This cannot be changed or the assessment will fail. If you need a reference for setting up the pretrained model, please take a look at [notebook 05b](05b_presidential_doggy_door.ipynb) where we implemented transfer learning."
   ]
  },
  {
   "cell_type": "code",
   "execution_count": 1,
   "metadata": {},
   "outputs": [],
   "source": [
    "from tensorflow import keras\n",
    "\n",
    "base_model = keras.applications.VGG16(\n",
    "    weights='imagenet',\n",
    "    input_shape=(224, 224, 3),\n",
    "    include_top=False)"
   ]
  },
  {
   "cell_type": "markdown",
   "metadata": {},
   "source": [
    "## Freeze Base Model"
   ]
  },
  {
   "cell_type": "markdown",
   "metadata": {},
   "source": [
    "Next, we suggest freezing the base model, as done in [notebook 05b](05b_presidential_doggy_door.ipynb). This is done so that all the learning from the ImageNet dataset does not get destroyed in the initial training."
   ]
  },
  {
   "cell_type": "code",
   "execution_count": 2,
   "metadata": {},
   "outputs": [],
   "source": [
    "base_model.trainable = False"
   ]
  },
  {
   "cell_type": "markdown",
   "metadata": {},
   "source": [
    "## Add Layers to Model"
   ]
  },
  {
   "cell_type": "markdown",
   "metadata": {},
   "source": [
    "Now it's time to add layers to the pretrained model. [Notebook 05b](05b_presidential_doggy_door.ipynb) can be used as a guide. Pay close attention to the last dense layer and make sure it has the correct number of neurons to classify the different types of fruit."
   ]
  },
  {
   "cell_type": "code",
   "execution_count": 3,
   "metadata": {},
   "outputs": [],
   "source": [
    "inputs = keras.Input(shape=(224, 224, 3))\n",
    "\n",
    "x = base_model(inputs, training=False)\n",
    "x = keras.layers.GlobalAveragePooling2D()(x)\n",
    "\n",
    "outputs = keras.layers.Dense(6, activation = 'softmax')(x)\n",
    "\n",
    "model = keras.Model(inputs, outputs)"
   ]
  },
  {
   "cell_type": "code",
   "execution_count": 4,
   "metadata": {},
   "outputs": [
    {
     "name": "stdout",
     "output_type": "stream",
     "text": [
      "Model: \"model\"\n",
      "_________________________________________________________________\n",
      "Layer (type)                 Output Shape              Param #   \n",
      "=================================================================\n",
      "input_2 (InputLayer)         [(None, 224, 224, 3)]     0         \n",
      "_________________________________________________________________\n",
      "vgg16 (Model)                (None, 7, 7, 512)         14714688  \n",
      "_________________________________________________________________\n",
      "global_average_pooling2d (Gl (None, 512)               0         \n",
      "_________________________________________________________________\n",
      "dense (Dense)                (None, 6)                 3078      \n",
      "=================================================================\n",
      "Total params: 14,717,766\n",
      "Trainable params: 3,078\n",
      "Non-trainable params: 14,714,688\n",
      "_________________________________________________________________\n"
     ]
    }
   ],
   "source": [
    "model.summary()"
   ]
  },
  {
   "cell_type": "markdown",
   "metadata": {},
   "source": [
    "## Compile Model"
   ]
  },
  {
   "cell_type": "markdown",
   "metadata": {},
   "source": [
    "Now it's time to compile the model with loss and metrics options. Remember that we're training on a number of different categories, rather than a binary classification problem."
   ]
  },
  {
   "cell_type": "code",
   "execution_count": 5,
   "metadata": {},
   "outputs": [],
   "source": [
    "model.compile(loss=keras.losses.BinaryCrossentropy(from_logits=True), metrics=[keras.metrics.BinaryAccuracy()])"
   ]
  },
  {
   "cell_type": "markdown",
   "metadata": {},
   "source": [
    "## Augment the Data"
   ]
  },
  {
   "cell_type": "markdown",
   "metadata": {},
   "source": [
    "If you'd like, try to augment the data to improve the dataset. Feel free to look at [notebook 04a](04a_asl_augmentation.ipynb) and [notebook 05b](05b_presidential_doggy_door.ipynb) for augmentation examples. There is also documentation for the [Keras ImageDataGenerator class](https://keras.io/api/preprocessing/image/#imagedatagenerator-class). This step is optional, but it may be helpful to get to 92% accuracy."
   ]
  },
  {
   "cell_type": "code",
   "execution_count": 6,
   "metadata": {},
   "outputs": [],
   "source": [
    "from tensorflow.keras.preprocessing.image import ImageDataGenerator\n",
    "\n",
    "datagen_train = ImageDataGenerator(\n",
    "    rotation_range=10,\n",
    "    zoom_range=0.1,\n",
    "    width_shift_range=0.1,\n",
    "    height_shift_range=0.1,\n",
    "    horizontal_flip=True,\n",
    "    vertical_flip=False,\n",
    ")"
   ]
  },
  {
   "cell_type": "markdown",
   "metadata": {},
   "source": [
    "## Load Dataset"
   ]
  },
  {
   "cell_type": "markdown",
   "metadata": {},
   "source": [
    "Now it's time to load the train and validation datasets. Pick the right folders, as well as the right `target_size` of the images (it needs to match the height and width input of the model you've created). For a reference, check out [notebook 05b](05b_presidential_doggy_door.ipynb)."
   ]
  },
  {
   "cell_type": "code",
   "execution_count": 7,
   "metadata": {},
   "outputs": [
    {
     "name": "stdout",
     "output_type": "stream",
     "text": [
      "Found 1182 images belonging to 6 classes.\n",
      "Found 329 images belonging to 6 classes.\n"
     ]
    }
   ],
   "source": [
    "train_it = datagen_train.flow_from_directory(\n",
    "    \"data/fruits/train/\",\n",
    "    target_size=(224, 224),\n",
    "    color_mode=\"rgb\",\n",
    "    class_mode=\"categorical\"\n",
    ")\n",
    "valid_it = datagen_train.flow_from_directory(\n",
    "    \"data/fruits/valid/\",\n",
    "    target_size=(224, 224),\n",
    "    color_mode=\"rgb\",\n",
    "    class_mode=\"categorical\"\n",
    ")"
   ]
  },
  {
   "cell_type": "markdown",
   "metadata": {},
   "source": [
    "## Train the Model"
   ]
  },
  {
   "cell_type": "markdown",
   "metadata": {},
   "source": [
    "Time to train the model! Pass the `train` and `valid` iterators into the `fit` function, as well as setting the desired number of epochs."
   ]
  },
  {
   "cell_type": "code",
   "execution_count": 8,
   "metadata": {},
   "outputs": [
    {
     "name": "stdout",
     "output_type": "stream",
     "text": [
      "Epoch 1/20\n",
      "37/36 [==============================] - 28s 756ms/step - loss: 0.7295 - binary_accuracy: 0.8008 - val_loss: 0.7200 - val_binary_accuracy: 0.8168\n",
      "Epoch 2/20\n",
      "37/36 [==============================] - 22s 589ms/step - loss: 0.7207 - binary_accuracy: 0.8175 - val_loss: 0.7192 - val_binary_accuracy: 0.8187\n",
      "Epoch 3/20\n",
      "37/36 [==============================] - 20s 549ms/step - loss: 0.7131 - binary_accuracy: 0.8325 - val_loss: 0.7080 - val_binary_accuracy: 0.8466\n",
      "Epoch 4/20\n",
      "37/36 [==============================] - 20s 554ms/step - loss: 0.7006 - binary_accuracy: 0.8598 - val_loss: 0.7002 - val_binary_accuracy: 0.8622\n",
      "Epoch 5/20\n",
      "37/36 [==============================] - 20s 553ms/step - loss: 0.6954 - binary_accuracy: 0.8716 - val_loss: 0.6954 - val_binary_accuracy: 0.8722\n",
      "Epoch 6/20\n",
      "37/36 [==============================] - 20s 548ms/step - loss: 0.6911 - binary_accuracy: 0.8793 - val_loss: 0.6969 - val_binary_accuracy: 0.8679\n",
      "Epoch 7/20\n",
      "37/36 [==============================] - 20s 544ms/step - loss: 0.6843 - binary_accuracy: 0.8916 - val_loss: 0.6688 - val_binary_accuracy: 0.9257\n",
      "Epoch 8/20\n",
      "37/36 [==============================] - 20s 546ms/step - loss: 0.6691 - binary_accuracy: 0.9243 - val_loss: 0.6651 - val_binary_accuracy: 0.9337\n",
      "Epoch 9/20\n",
      "37/36 [==============================] - 20s 543ms/step - loss: 0.6641 - binary_accuracy: 0.9350 - val_loss: 0.6636 - val_binary_accuracy: 0.9356\n",
      "Epoch 10/20\n",
      "37/36 [==============================] - 20s 546ms/step - loss: 0.6619 - binary_accuracy: 0.9377 - val_loss: 0.6630 - val_binary_accuracy: 0.9348\n",
      "Epoch 11/20\n",
      "37/36 [==============================] - 20s 551ms/step - loss: 0.6594 - binary_accuracy: 0.9432 - val_loss: 0.6593 - val_binary_accuracy: 0.9432\n",
      "Epoch 12/20\n",
      "37/36 [==============================] - 20s 547ms/step - loss: 0.6588 - binary_accuracy: 0.9453 - val_loss: 0.6630 - val_binary_accuracy: 0.9337\n",
      "Epoch 13/20\n",
      "37/36 [==============================] - 20s 544ms/step - loss: 0.6574 - binary_accuracy: 0.9454 - val_loss: 0.6582 - val_binary_accuracy: 0.9448\n",
      "Epoch 14/20\n",
      "37/36 [==============================] - 20s 544ms/step - loss: 0.6593 - binary_accuracy: 0.9430 - val_loss: 0.6558 - val_binary_accuracy: 0.9512\n",
      "Epoch 15/20\n",
      "37/36 [==============================] - 20s 546ms/step - loss: 0.6571 - binary_accuracy: 0.9470 - val_loss: 0.6576 - val_binary_accuracy: 0.9460\n",
      "Epoch 16/20\n",
      "37/36 [==============================] - 20s 540ms/step - loss: 0.6591 - binary_accuracy: 0.9439 - val_loss: 0.6595 - val_binary_accuracy: 0.9405\n",
      "Epoch 17/20\n",
      "37/36 [==============================] - 20s 535ms/step - loss: 0.6547 - binary_accuracy: 0.9504 - val_loss: 0.6592 - val_binary_accuracy: 0.9427\n",
      "Epoch 18/20\n",
      "37/36 [==============================] - 20s 541ms/step - loss: 0.6570 - binary_accuracy: 0.9477 - val_loss: 0.6550 - val_binary_accuracy: 0.9503\n",
      "Epoch 19/20\n",
      "37/36 [==============================] - 20s 547ms/step - loss: 0.6558 - binary_accuracy: 0.9492 - val_loss: 0.6572 - val_binary_accuracy: 0.9462\n",
      "Epoch 20/20\n",
      "37/36 [==============================] - 20s 541ms/step - loss: 0.6568 - binary_accuracy: 0.9485 - val_loss: 0.6536 - val_binary_accuracy: 0.9560\n"
     ]
    },
    {
     "data": {
      "text/plain": [
       "<tensorflow.python.keras.callbacks.History at 0x7fa215c3b780>"
      ]
     },
     "execution_count": 8,
     "metadata": {},
     "output_type": "execute_result"
    }
   ],
   "source": [
    "model.fit(train_it,\n",
    "          validation_data=train_it,\n",
    "          steps_per_epoch=train_it.samples/train_it.batch_size,\n",
    "          validation_steps=valid_it.samples/valid_it.batch_size,\n",
    "          epochs=20)"
   ]
  },
  {
   "cell_type": "markdown",
   "metadata": {},
   "source": [
    "## Unfreeze Model for Fine Tuning"
   ]
  },
  {
   "cell_type": "markdown",
   "metadata": {},
   "source": [
    "If you have reached 92% validation accuracy already, this next step is optional. If not, we suggest fine tuning the model with a very low learning rate."
   ]
  },
  {
   "cell_type": "code",
   "execution_count": 9,
   "metadata": {},
   "outputs": [],
   "source": [
    "base_model.trainable = True\n",
    "\n",
    "# Compile the model with a low learning rate\n",
    "model.compile(optimizer=keras.optimizers.RMSprop(learning_rate = .00001),\n",
    "              loss=keras.losses.BinaryCrossentropy(from_logits=True),\n",
    "              metrics=[keras.metrics.BinaryAccuracy()])"
   ]
  },
  {
   "cell_type": "code",
   "execution_count": 10,
   "metadata": {},
   "outputs": [
    {
     "name": "stdout",
     "output_type": "stream",
     "text": [
      "Epoch 1/10\n",
      "37/36 [==============================] - 36s 963ms/step - loss: 0.6604 - binary_accuracy: 0.9392 - val_loss: 0.6606 - val_binary_accuracy: 0.9407\n",
      "Epoch 2/10\n",
      "37/36 [==============================] - 21s 572ms/step - loss: 0.6576 - binary_accuracy: 0.9449 - val_loss: 0.6624 - val_binary_accuracy: 0.9357\n",
      "Epoch 3/10\n",
      "37/36 [==============================] - 21s 568ms/step - loss: 0.6555 - binary_accuracy: 0.9498 - val_loss: 0.6600 - val_binary_accuracy: 0.9417\n",
      "Epoch 4/10\n",
      "37/36 [==============================] - 21s 566ms/step - loss: 0.6568 - binary_accuracy: 0.9478 - val_loss: 0.6571 - val_binary_accuracy: 0.9478\n",
      "Epoch 5/10\n",
      "37/36 [==============================] - 21s 575ms/step - loss: 0.6528 - binary_accuracy: 0.9559 - val_loss: 0.6593 - val_binary_accuracy: 0.9422\n",
      "Epoch 6/10\n",
      "37/36 [==============================] - 21s 578ms/step - loss: 0.6553 - binary_accuracy: 0.9529 - val_loss: 0.6598 - val_binary_accuracy: 0.9438\n",
      "Epoch 7/10\n",
      "37/36 [==============================] - 21s 579ms/step - loss: 0.6553 - binary_accuracy: 0.9530 - val_loss: 0.6601 - val_binary_accuracy: 0.9407\n",
      "Epoch 8/10\n",
      "37/36 [==============================] - 21s 572ms/step - loss: 0.6538 - binary_accuracy: 0.9576 - val_loss: 0.6615 - val_binary_accuracy: 0.9402\n",
      "Epoch 9/10\n",
      "37/36 [==============================] - 21s 569ms/step - loss: 0.6508 - binary_accuracy: 0.9646 - val_loss: 0.6569 - val_binary_accuracy: 0.9524\n",
      "Epoch 10/10\n",
      "37/36 [==============================] - 21s 580ms/step - loss: 0.6546 - binary_accuracy: 0.9561 - val_loss: 0.6586 - val_binary_accuracy: 0.9504\n"
     ]
    },
    {
     "data": {
      "text/plain": [
       "<tensorflow.python.keras.callbacks.History at 0x7fa2008fd780>"
      ]
     },
     "execution_count": 10,
     "metadata": {},
     "output_type": "execute_result"
    }
   ],
   "source": [
    "model.fit(train_it,\n",
    "          validation_data=valid_it,\n",
    "          steps_per_epoch=train_it.samples/train_it.batch_size,\n",
    "          validation_steps=valid_it.samples/valid_it.batch_size,\n",
    "          epochs=10)"
   ]
  },
  {
   "cell_type": "markdown",
   "metadata": {},
   "source": [
    "## Evaluate the Model"
   ]
  },
  {
   "cell_type": "markdown",
   "metadata": {},
   "source": [
    "Hopefully, you now have a model that has a validation accuracy of 92% or higher. If not, you may want to go back and either run more epochs of training, or adjust your data augmentation. \n",
    "\n",
    "Once you are satisfied with the validation accuracy, evaluate the model by executing the following cell. The evaluate function will return a tuple, where the first value is your loss, and the second value is your accuracy. To pass, the model will need have an accuracy value of `92% or higher`. "
   ]
  },
  {
   "cell_type": "code",
   "execution_count": 11,
   "metadata": {},
   "outputs": [
    {
     "name": "stdout",
     "output_type": "stream",
     "text": [
      "11/10 [================================] - 4s 379ms/step - loss: 0.6558 - binary_accuracy: 0.9574\n"
     ]
    },
    {
     "data": {
      "text/plain": [
       "[0.6558377742767334, 0.957446813583374]"
      ]
     },
     "execution_count": 11,
     "metadata": {},
     "output_type": "execute_result"
    }
   ],
   "source": [
    "model.evaluate(valid_it, steps=valid_it.samples/valid_it.batch_size)"
   ]
  },
  {
   "cell_type": "markdown",
   "metadata": {},
   "source": [
    "## Run the Assessment"
   ]
  },
  {
   "cell_type": "markdown",
   "metadata": {},
   "source": [
    "To assess your model run the following two cells.\n",
    "\n",
    "**NOTE:** `run_assessment` assumes your model is named `model` and your validation data iterator is called `valid_it`. If for any reason you have modified these variable names, please update the names of the arguments passed to `run_assessment`."
   ]
  },
  {
   "cell_type": "code",
   "execution_count": 12,
   "metadata": {},
   "outputs": [],
   "source": [
    "from run_assessment import run_assessment"
   ]
  },
  {
   "cell_type": "code",
   "execution_count": 13,
   "metadata": {},
   "outputs": [
    {
     "name": "stdout",
     "output_type": "stream",
     "text": [
      "Evaluating model 5 times to obtain average accuracy...\n",
      "\n",
      "11/10 [================================] - 4s 339ms/step - loss: 0.6561 - binary_accuracy: 0.9569\n",
      "11/10 [================================] - 4s 347ms/step - loss: 0.6563 - binary_accuracy: 0.9574\n",
      "11/10 [================================] - 4s 355ms/step - loss: 0.6539 - binary_accuracy: 0.9595\n",
      "11/10 [================================] - 4s 356ms/step - loss: 0.6562 - binary_accuracy: 0.9585\n",
      "11/10 [================================] - 4s 350ms/step - loss: 0.6597 - binary_accuracy: 0.9514\n",
      "\n",
      "Accuracy required to pass the assessment is 0.92 or greater.\n",
      "Your average accuracy is 0.9567.\n",
      "\n",
      "Congratulations! You passed the assessment!\n",
      "See instructions below to generate a certificate.\n"
     ]
    }
   ],
   "source": [
    "run_assessment(model, valid_it)"
   ]
  },
  {
   "cell_type": "markdown",
   "metadata": {},
   "source": [
    "## Generate a Certificate"
   ]
  },
  {
   "cell_type": "markdown",
   "metadata": {},
   "source": [
    "If you passed the assessment, please return to the course page (shown below) and click the \"ASSESS TASK\" button, which will generate your certificate for the course."
   ]
  },
  {
   "cell_type": "markdown",
   "metadata": {},
   "source": [
    "<img src=\"./images/assess_task.png\" style=\"width: 800px;\">"
   ]
  },
  {
   "cell_type": "markdown",
   "metadata": {},
   "source": [
    "<center><a href=\"https://www.nvidia.com/dli\"> <img src=\"images/DLI_Header.png\" alt=\"Header\" style=\"width: 400px;\"/> </a></center>"
   ]
  }
 ],
 "metadata": {
  "kernelspec": {
   "display_name": "Python 3",
   "language": "python",
   "name": "python3"
  },
  "language_info": {
   "codemirror_mode": {
    "name": "ipython",
    "version": 3
   },
   "file_extension": ".py",
   "mimetype": "text/x-python",
   "name": "python",
   "nbconvert_exporter": "python",
   "pygments_lexer": "ipython3",
   "version": "3.6.9"
  }
 },
 "nbformat": 4,
 "nbformat_minor": 4
}
